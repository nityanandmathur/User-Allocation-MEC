{
 "cells": [
  {
   "cell_type": "code",
   "execution_count": 7,
   "metadata": {},
   "outputs": [],
   "source": [
    "from gurobipy import *"
   ]
  },
  {
   "attachments": {},
   "cell_type": "markdown",
   "metadata": {},
   "source": [
    "| Notation |                                          Meaning                                          |\n",
    "| :------: | :---------------------------------------------------------------------------------------: |\n",
    "|    O     |                                Set of online arrived users                                |\n",
    "|    S     |                                    Set of edge servers                                    |\n",
    "|    t     |                                   Set of resource types                                   |\n",
    "|    r     | Revenue of edge server s<sub>j</sub> accepting the resource request of user u<sub>i</sub> |\n",
    "|    d     |                           Resource demand of user u<sub>i</sub>                           |\n",
    "|    c     |                      Resource capacity of edge server s<sub>j</sub>                       |\n",
    "|   cov    |                        Coverage area of edge server s<sub>j</sub>                         |\n"
   ]
  },
  {
   "cell_type": "code",
   "execution_count": 8,
   "metadata": {},
   "outputs": [],
   "source": [
    "import random\n",
    "\n",
    "# Define the sets\n",
    "O = range(5) # set of online arrived users\n",
    "S = range(7) # set of edge servers\n",
    "t = range(2) # set of resource types\n",
    "\n",
    "# Define the parameters\n",
    "\n",
    "r = {(u,s):random.randint(1,10) for u in O for s in S} \n",
    "d = {(p,u):random.randint(1,5) for p in t for u in O}\n",
    "c = {(p,s):random.randint(1,5) for p in t for s in S}\n",
    "cov = {s:random.sample(O,2) for s in S}\n"
   ]
  },
  {
   "cell_type": "code",
   "execution_count": 10,
   "metadata": {},
   "outputs": [
    {
     "name": "stdout",
     "output_type": "stream",
     "text": [
      "C0 0.0\n",
      "C1 0.0\n",
      "C2 0.0\n",
      "C3 0.0\n",
      "C4 0.0\n",
      "C5 0.0\n",
      "C6 0.0\n",
      "C7 0.0\n",
      "C8 0.0\n",
      "C9 0.0\n",
      "C10 0.0\n",
      "C11 0.0\n",
      "C12 1.0\n",
      "C13 0.0\n",
      "C14 0.0\n",
      "C15 0.0\n",
      "C16 0.0\n",
      "C17 0.0\n",
      "C18 1.0\n",
      "C19 0.0\n",
      "C20 0.0\n",
      "C21 0.0\n",
      "C22 0.0\n",
      "C23 0.0\n",
      "C24 0.0\n",
      "C25 0.0\n",
      "C26 0.0\n",
      "C27 0.0\n",
      "C28 1.0\n",
      "C29 0.0\n",
      "C30 0.0\n",
      "C31 0.0\n",
      "C32 0.0\n",
      "C33 0.0\n",
      "C34 0.0\n",
      "Obj: 20.0\n"
     ]
    }
   ],
   "source": [
    "env = Env(empty=True)\n",
    "env.setParam('OutputFlag', 0)\n",
    "env.start()\n",
    "\n",
    "# Create a new model\n",
    "m = Model(env=env)  \n",
    "\n",
    "# Define the variables\n",
    "x = m.addVars(O, S, vtype=GRB.BINARY)\n",
    "\n",
    "# Define the objective function\n",
    "m.setObjective(quicksum(r[u,s]*x[u,s] for u in O for s in S), GRB.MAXIMIZE)\n",
    "\n",
    "# Add the constraints\n",
    "for s in S:\n",
    "    for p in t:\n",
    "        m.addConstr(quicksum(d[p,u]*x[u,s] for u in O) <= c[p,s])\n",
    "\n",
    "for u in O:\n",
    "    m.addConstr(quicksum(x[u,s] for s in S) <= 1)\n",
    "\n",
    "for u in O:\n",
    "    for s in S:\n",
    "        if u not in cov:\n",
    "            m.addConstr(x[u,s] == 0)\n",
    "\n",
    "# Optimize the model\n",
    "m.optimize()\n",
    "\n",
    "# Print the results\n",
    "for v in m.getVars():\n",
    "    print(v.varName, v.x)\n",
    "\n",
    "print('Obj:', m.objVal)\n"
   ]
  }
 ],
 "metadata": {
  "kernelspec": {
   "display_name": "base",
   "language": "python",
   "name": "python3"
  },
  "language_info": {
   "codemirror_mode": {
    "name": "ipython",
    "version": 3
   },
   "file_extension": ".py",
   "mimetype": "text/x-python",
   "name": "python",
   "nbconvert_exporter": "python",
   "pygments_lexer": "ipython3",
   "version": "3.10.8"
  },
  "orig_nbformat": 4,
  "vscode": {
   "interpreter": {
    "hash": "3d597f4c481aa0f25dceb95d2a0067e73c0966dcbd003d741d821a7208527ecf"
   }
  }
 },
 "nbformat": 4,
 "nbformat_minor": 2
}
