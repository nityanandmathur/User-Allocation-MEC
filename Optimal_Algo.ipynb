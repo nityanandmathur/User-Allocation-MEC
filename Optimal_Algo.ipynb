{
 "cells": [
  {
   "cell_type": "code",
   "execution_count": 1,
   "metadata": {},
   "outputs": [],
   "source": [
    "from gurobipy import *"
   ]
  },
  {
   "cell_type": "code",
   "execution_count": 2,
   "metadata": {},
   "outputs": [],
   "source": [
    "import random\n",
    "\n",
    "# Define the sets\n",
    "O = range(5) # set of users\n",
    "S = range(7) # set of servers\n",
    "t = range(2) # set of types\n",
    "\n",
    "# Define the parameters\n",
    "r = {(u,s):random.randint(1,10) for u in O for s in S}\n",
    "d = {u:random.randint(1,5) for u in O}\n",
    "c = {s:random.randint(1,5) for s in S}\n",
    "cov = {s:random.sample(O,2) for s in S}\n"
   ]
  },
  {
   "cell_type": "code",
   "execution_count": 4,
   "metadata": {},
   "outputs": [
    {
     "name": "stdout",
     "output_type": "stream",
     "text": [
      "Gurobi Optimizer version 10.0.0 build v10.0.0rc2 (linux64)\n",
      "\n",
      "CPU model: Intel(R) Core(TM) i5-6300U CPU @ 2.40GHz, instruction set [SSE2|AVX|AVX2]\n",
      "Thread count: 2 physical cores, 4 logical processors, using up to 4 threads\n",
      "\n",
      "Optimize a model with 19 rows, 35 columns and 105 nonzeros\n",
      "Model fingerprint: 0xc2d83347\n",
      "Variable types: 0 continuous, 35 integer (35 binary)\n",
      "Coefficient statistics:\n",
      "  Matrix range     [1e+00, 5e+00]\n",
      "  Objective range  [1e+00, 1e+01]\n",
      "  Bounds range     [1e+00, 1e+00]\n",
      "  RHS range        [1e+00, 4e+00]\n",
      "Found heuristic solution: objective 17.0000000\n",
      "Presolve removed 8 rows and 13 columns\n",
      "Presolve time: 0.01s\n",
      "Presolved: 11 rows, 22 columns, 44 nonzeros\n",
      "Variable types: 0 continuous, 22 integer (22 binary)\n",
      "Found heuristic solution: objective 34.0000000\n",
      "\n",
      "Root relaxation: objective 3.500000e+01, 8 iterations, 0.00 seconds (0.00 work units)\n",
      "\n",
      "    Nodes    |    Current Node    |     Objective Bounds      |     Work\n",
      " Expl Unexpl |  Obj  Depth IntInf | Incumbent    BestBd   Gap | It/Node Time\n",
      "\n",
      "*    0     0               0      35.0000000   35.00000  0.00%     -    0s\n",
      "\n",
      "Explored 1 nodes (8 simplex iterations) in 0.06 seconds (0.00 work units)\n",
      "Thread count was 4 (of 4 available processors)\n",
      "\n",
      "Solution count 3: 35 34 17 \n",
      "\n",
      "Optimal solution found (tolerance 1.00e-04)\n",
      "Best objective 3.500000000000e+01, best bound 3.500000000000e+01, gap 0.0000%\n",
      "C0 0.0\n",
      "C1 0.0\n",
      "C2 0.0\n",
      "C3 0.0\n",
      "C4 0.0\n",
      "C5 0.0\n",
      "C6 0.0\n",
      "C7 0.0\n",
      "C8 -0.0\n",
      "C9 0.0\n",
      "C10 0.0\n",
      "C11 0.0\n",
      "C12 -0.0\n",
      "C13 1.0\n",
      "C14 -0.0\n",
      "C15 1.0\n",
      "C16 -0.0\n",
      "C17 -0.0\n",
      "C18 0.0\n",
      "C19 -0.0\n",
      "C20 -0.0\n",
      "C21 -0.0\n",
      "C22 -0.0\n",
      "C23 -0.0\n",
      "C24 1.0\n",
      "C25 -0.0\n",
      "C26 0.0\n",
      "C27 -0.0\n",
      "C28 0.0\n",
      "C29 -0.0\n",
      "C30 0.0\n",
      "C31 0.0\n",
      "C32 0.0\n",
      "C33 1.0\n",
      "C34 -0.0\n",
      "Obj: 35.0\n"
     ]
    }
   ],
   "source": [
    "# Create a new model\n",
    "m = Model()\n",
    "\n",
    "# Define the variables\n",
    "x = m.addVars(O, S, vtype=GRB.BINARY)\n",
    "\n",
    "# Define the objective function\n",
    "m.setObjective(quicksum(r[u,s]*x[u,s] for u in O for s in S), GRB.MAXIMIZE)\n",
    "\n",
    "# Add the constraints\n",
    "for s in S:\n",
    "    for p in t:\n",
    "        m.addConstr(quicksum(d[u]**p*x[u,s] for u in O) <= c[s]**p)\n",
    "\n",
    "for u in O:\n",
    "    m.addConstr(quicksum(x[u,s] for s in S) <= 1)\n",
    "\n",
    "for u in O:\n",
    "    for s in S:\n",
    "        if u not in cov:\n",
    "            m.addConstr(x[u,s] == 0)\n",
    "\n",
    "# Optimize the model\n",
    "m.optimize()\n",
    "\n",
    "# Print the results\n",
    "for v in m.getVars():\n",
    "    print(v.varName, v.x)\n",
    "\n",
    "print('Obj:', m.objVal)\n"
   ]
  }
 ],
 "metadata": {
  "kernelspec": {
   "display_name": "base",
   "language": "python",
   "name": "python3"
  },
  "language_info": {
   "codemirror_mode": {
    "name": "ipython",
    "version": 3
   },
   "file_extension": ".py",
   "mimetype": "text/x-python",
   "name": "python",
   "nbconvert_exporter": "python",
   "pygments_lexer": "ipython3",
   "version": "3.10.8"
  },
  "orig_nbformat": 4,
  "vscode": {
   "interpreter": {
    "hash": "3d597f4c481aa0f25dceb95d2a0067e73c0966dcbd003d741d821a7208527ecf"
   }
  }
 },
 "nbformat": 4,
 "nbformat_minor": 2
}
